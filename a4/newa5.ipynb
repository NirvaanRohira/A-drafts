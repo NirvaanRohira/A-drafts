{
 "cells": [
  {
   "cell_type": "code",
   "execution_count": null,
   "id": "f4b3c7b2-eb03-4316-8669-4ec79dc90001",
   "metadata": {},
   "outputs": [],
   "source": []
  },
  {
   "cell_type": "markdown",
   "id": "6c7bbf8f-9b40-46b8-866f-d5d7c6b6d363",
   "metadata": {
    "tags": []
   },
   "source": [
    "# Advanced Network Analysis with CVXPY: A Tutorial\n",
    "\n",
    "This tutorial is designed to provide a deep dive into using CVXPY for network analysis, from theoretical concepts to practical applications. We'll start with an introduction to convex optimization, proceed to a hypothetical example, and then apply our knowledge to a real-world dataset.\n",
    "\n",
    "## Introduction to Convex Optimization\n",
    "\n",
    "Convex optimization is a subfield of optimization that deals with finding the minimum of convex functions over convex sets. The significance of convexity lies in the property that any local minimum is a global minimum. This makes convex optimization problems particularly appealing because they can be solved efficiently and reliably.\n",
    "\n",
    "A convex optimization problem typically takes the form:\n",
    "\n",
    "$\n",
    "\\text{minimize } f(x)\n",
    "$\n",
    "$\n",
    "\\text{subject to } g_i(x) \\leq 0, \\quad i=1,\\ldots,m\n",
    "$\n",
    "$\n",
    "h_j(x) = 0, \\quad j=1,\\ldots,p\n",
    "$\n",
    "\n",
    "where $f(x)$ is the objective function to be minimized, $g_i(x) \\leq 0$ are inequality constraints, and $h_j(x) = 0$ are equality constraints. Both $f(x)$ and $g_i(x)$ must be convex functions, and $h_j(x)$ must be affine.\n",
    "\n",
    "## CVXPY Overview\n",
    "\n",
    "[CVXPY](https://www.cvxpy.org/) is a Python library for convex optimization that simplifies the process of problem formulation and solution. It provides a high-level interface for defining optimization problems in a readable and intuitive way.\n",
    "\n",
    "### Installing CVXPY\n",
    "\n",
    "Ensure CVXPY is installed in your environment:\n",
    "\n",
    "```bash\n",
    "pip install cvxpy\n"
   ]
  },
  {
   "cell_type": "markdown",
   "id": "b988ffee-e7f6-4c1e-8e9e-dd94e6471c23",
   "metadata": {
    "jp-MarkdownHeadingCollapsed": true,
    "jupyter": {
     "source_hidden": true
    },
    "tags": []
   },
   "source": [
    "Now considering the installation is complete, in order to understand cvxpy, we need to first understand convex optimization. To do this, let's cover how to solve it with the help of an example.\n",
    "\n",
    "### Hypothetical Convex Optimization Example\n",
    "Let's start with a simple example to minimize a quadratic function, which is a common form of a convex function:\n",
    "\n",
    "$\n",
    "\\text{minimize } f(x) = 2x^2 + 5x + 1\n",
    "$\n",
    "\n",
    "This function is convex because its second derivative (4, in this case) is positive across its domain, ensuring any local minimum is also a global minimum."
   ]
  },
  {
   "cell_type": "markdown",
   "id": "18a08ad9-d5a5-43d1-9fa4-480f2ec06f70",
   "metadata": {},
   "source": [
    "### Solving the Problem Manually\n",
    "\n",
    "To find the minimum of $f(x)$, we set its derivative equal to zero and solve for $x$:\n",
    "\n",
    "$\n",
    "\\frac{df(x)}{dx} = 4x + 5 = 0\n",
    "$\n",
    "\n",
    "Solving for $x$ gives us:\n",
    "\n",
    "$\n",
    "x = -\\frac{5}{4}\n",
    "$\n",
    "\n",
    "Substituting $x = -\\frac{5}{4}$ back into $f(x)$ gives us the minimum value of the function:\n",
    "\n",
    "$\n",
    "f\\left(-\\frac{5}{4}\\right) = 2\\left(-\\frac{5}{4}\\right)^2 + 5\\left(-\\frac{5}{4}\\right) + 1 = -\\frac{9}{8}\n",
    "$\n",
    "\n",
    "Therefore, the minimum value of $f(x)$ is $-\\frac{9}{8}$, achieved at $x = -\\frac{5}{4}$.\n",
    "\n",
    "### Insight\n",
    "\n",
    "This manual process highlights the essence of convex optimization: finding the global minimum through gradient-based methods. For more complex or multidimensional functions, manual solutions become impractical, which is where tools like CVXPY excel by automating and efficiently solving these problems.\n",
    "\n",
    "## Transitioning to CVXPY\n",
    "\n",
    "Having manually solved a basic convex optimization problem, let's see how CVXPY streamlines this process for more complex scenarios, including those involving networks. Following the manual solution, the CVXPY code snippet provided earlier illustrates how the library simplifies solving the same problem:\n",
    "\n",
    "```python\n",
    "import cvxpy as cp\n",
    "\n",
    "x = cp.Variable()\n",
    "objective = cp.Minimize(2*x**2 + 5*x + 1)\n",
    "problem = cp.Problem(objective)\n",
    "result = problem.solve()\n",
    "\n",
    "print(f\"Optimal value for x: {x.value}\")\n",
    "print(f\"Minimum value of the function: {result}\")\n"
   ]
  },
  {
   "cell_type": "code",
   "execution_count": 1,
   "id": "5b3b4725-a42d-477a-9a6c-a9a8bb1ce14c",
   "metadata": {
    "collapsed": true,
    "jupyter": {
     "outputs_hidden": true
    },
    "tags": []
   },
   "outputs": [
    {
     "name": "stdout",
     "output_type": "stream",
     "text": [
      "Collecting cvxpy\n",
      "  Using cached cvxpy-1.4.2-cp310-cp310-manylinux_2_17_x86_64.manylinux2014_x86_64.whl (1.2 MB)\n",
      "Collecting ecos>=2\n",
      "  Using cached ecos-2.0.13-cp310-cp310-manylinux_2_17_x86_64.manylinux2014_x86_64.whl (220 kB)\n",
      "Collecting scs>=3.0\n",
      "  Using cached scs-3.2.4.post1-cp310-cp310-manylinux_2_17_x86_64.manylinux2014_x86_64.whl (10.4 MB)\n",
      "Requirement already satisfied: numpy>=1.15 in /opt/conda/lib/python3.10/site-packages (from cvxpy) (1.23.5)\n",
      "Collecting clarabel>=0.5.0\n",
      "  Using cached clarabel-0.7.1-cp37-abi3-manylinux_2_17_x86_64.manylinux2014_x86_64.whl (1.3 MB)\n",
      "Collecting pybind11\n",
      "  Using cached pybind11-2.12.0-py3-none-any.whl (234 kB)\n",
      "Requirement already satisfied: scipy>=1.1.0 in /opt/conda/lib/python3.10/site-packages (from cvxpy) (1.10.0)\n",
      "Collecting osqp>=0.6.2\n",
      "  Using cached osqp-0.6.5-cp310-cp310-manylinux_2_5_x86_64.manylinux1_x86_64.manylinux_2_17_x86_64.manylinux2014_x86_64.whl (298 kB)\n",
      "Collecting qdldl\n",
      "  Using cached qdldl-0.1.7.post1-cp310-cp310-manylinux_2_17_x86_64.manylinux2014_x86_64.whl (1.1 MB)\n",
      "Installing collected packages: pybind11, scs, qdldl, ecos, clarabel, osqp, cvxpy\n",
      "Successfully installed clarabel-0.7.1 cvxpy-1.4.2 ecos-2.0.13 osqp-0.6.5 pybind11-2.12.0 qdldl-0.1.7.post1 scs-3.2.4.post1\n"
     ]
    }
   ],
   "source": [
    "#install\n",
    "!pip install -U cvxpy"
   ]
  },
  {
   "cell_type": "code",
   "execution_count": 1,
   "id": "2b219d85-2ccf-42f1-8617-74f0f1d23699",
   "metadata": {
    "jupyter": {
     "source_hidden": true
    },
    "tags": []
   },
   "outputs": [
    {
     "name": "stdout",
     "output_type": "stream",
     "text": [
      "Optimal value for x: -1.2499999999999998\n",
      "Minimum value of the function: -2.125\n"
     ]
    }
   ],
   "source": [
    "#so actually solving it now\n",
    "import cvxpy as cp\n",
    "\n",
    "# Define the variable\n",
    "x = cp.Variable()\n",
    "\n",
    "# Define the objective function\n",
    "objective = cp.Minimize(2*x**2 + 5*x + 1)\n",
    "\n",
    "# Define the problem\n",
    "problem = cp.Problem(objective)\n",
    "\n",
    "# Solve the problem\n",
    "result = problem.solve()\n",
    "\n",
    "print(\"Optimal value for x:\", x.value)\n",
    "print(\"Minimum value of the function:\", result)\n"
   ]
  },
  {
   "cell_type": "markdown",
   "id": "4ce8418f-66d6-4da3-9bad-a07b43af6267",
   "metadata": {
    "jupyter": {
     "source_hidden": true
    },
    "tags": []
   },
   "source": [
    "### Analyzing a Network with Hypothetical Data\n",
    "Suppose we have a simple network represented by nodes and edges, where nodes represent points of interest, and edges represent paths between them with associated costs. Our objective is to minimize the total cost of traveling across the network.\n",
    "\n",
    "### Creating a Hypothetical Dataset\n",
    "For our hypothetical dataset, we'll manually create data representing a network of four nodes and the costs associated with traveling between them.\n",
    "\n",
    "### Visualizing the Network with NetworkX\n",
    "Before we dive into optimization with CVXPY, let's visualize our network using NetworkX."
   ]
  },
  {
   "cell_type": "code",
   "execution_count": 1,
   "id": "fe5f3a9d-4d26-4b96-9726-c87d7e2f6126",
   "metadata": {
    "jupyter": {
     "source_hidden": true
    },
    "tags": []
   },
   "outputs": [
    {
     "data": {
      "image/png": "[encoded data removed]",
      "text/plain": [
       "<Figure size 640x480 with 1 Axes>"
      ]
     },
     "metadata": {},
     "output_type": "display_data"
    }
   ],
   "source": [
    "import networkx as nx\n",
    "import matplotlib.pyplot as plt\n",
    "\n",
    "# Create a graph object\n",
    "G = nx.Graph()\n",
    "\n",
    "# Add edges between nodes with weights (costs)\n",
    "G.add_edge('A', 'B', weight=10)\n",
    "G.add_edge('B', 'C', weight=15)\n",
    "G.add_edge('C', 'D', weight=10)\n",
    "G.add_edge('A', 'D', weight=20)\n",
    "\n",
    "# Draw the network\n",
    "pos = nx.spring_layout(G)\n",
    "nx.draw(G, pos, with_labels=True, node_size=700)\n",
    "labels = nx.get_edge_attributes(G, 'weight')\n",
    "nx.draw_networkx_edge_labels(G, pos, edge_labels=labels)\n",
    "plt.show()\n"
   ]
  },
  {
   "cell_type": "markdown",
   "id": "13f2beb1-5516-4703-9ead-f8c4ff14ae64",
   "metadata": {},
   "source": [
    "### Applying CVXPY to a more complicated problem to find and plot an optimal path"
   ]
  },
  {
   "cell_type": "code",
   "execution_count": null,
   "id": "4fbefc44-db57-4ff2-81e2-264138cb1ac7",
   "metadata": {},
   "outputs": [],
   "source": []
  }
 ],
 "metadata": {
  "kernelspec": {
   "display_name": "Python 3 (ipykernel)",
   "language": "python",
   "name": "python3"
  },
  "language_info": {
   "codemirror_mode": {
    "name": "ipython",
    "version": 3
   },
   "file_extension": ".py",
   "mimetype": "text/x-python",
   "name": "python",
   "nbconvert_exporter": "python",
   "pygments_lexer": "ipython3",
   "version": "3.10.8"
  }
 },
 "nbformat": 4,
 "nbformat_minor": 5
}
