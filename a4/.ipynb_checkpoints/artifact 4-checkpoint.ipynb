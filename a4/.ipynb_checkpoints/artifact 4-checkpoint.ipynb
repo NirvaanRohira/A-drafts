{
 "cells": [
  {
   "cell_type": "markdown",
   "id": "48954180-fe27-4205-a005-80084a5a8170",
   "metadata": {},
   "source": [
    "CVXPY is a Python package for convex optimization. How do we import, analyze and visualize a dataset using pandas? If our dataset includes nodes and edges for a network, how do we use NetworkX to construct the graph object? Find an interesting dataset related to a network and write a tutorial to show how to use these packages to perform network analysis."
   ]
  },
  {
   "cell_type": "markdown",
   "id": "d738eba1-f4d4-4d64-9dfe-2a4c5cd66452",
   "metadata": {},
   "source": [
    "Plan\n",
    "- Talk about CVXPY as a package\n",
    "- show some math about convex opt\n",
    "- Give a hypothetical dataset of a simple network\n",
    "- explain how it works and how the cvxpy can do it faster\n",
    "- use cvxpy and an actual dataset to do the computations for the dataset to show real world stuff"
   ]
  },
  {
   "cell_type": "markdown",
   "id": "9528ad4d-fcfd-4ebc-b313-17fb98f0ffd1",
   "metadata": {},
   "source": [
    "# Advanced Network Analysis with CVXPY: A Tutorial\n",
    "\n",
    "This tutorial is designed to provide a deep dive into using CVXPY for network analysis, from theoretical concepts to practical applications. We'll start with an introduction to convex optimization, proceed to a hypothetical example, and then apply our knowledge to a real-world dataset.\n",
    "\n",
    "## Introduction to Convex Optimization\n",
    "\n",
    "Convex optimization is a subfield of optimization that deals with finding the minimum of convex functions over convex sets. The significance of convexity lies in the property that any local minimum is a global minimum. This makes convex optimization problems particularly appealing because they can be solved efficiently and reliably.\n",
    "\n",
    "A convex optimization problem typically takes the form:\n",
    "\n",
    "$\n",
    "\\text{minimize } f(x)\n",
    "$\n",
    "$\n",
    "\\text{subject to } g_i(x) \\leq 0, \\quad i=1,\\ldots,m\n",
    "$\n",
    "$\n",
    "h_j(x) = 0, \\quad j=1,\\ldots,p\n",
    "$\n",
    "\n",
    "where $f(x)$ is the objective function to be minimized, $g_i(x) \\leq 0$ are inequality constraints, and $h_j(x) = 0$ are equality constraints. Both $f(x)$ and $g_i(x)$ must be convex functions, and $h_j(x)$ must be affine.\n",
    "\n",
    "## CVXPY Overview\n",
    "\n",
    "[CVXPY](https://www.cvxpy.org/) is a Python library for convex optimization that simplifies the process of problem formulation and solution. It provides a high-level interface for defining optimization problems in a readable and intuitive way.\n",
    "\n",
    "### Installing CVXPY\n",
    "\n",
    "Ensure CVXPY is installed in your environment:\n",
    "\n",
    "```bash\n",
    "pip install cvxpy\n"
   ]
  },
  {
   "cell_type": "markdown",
   "id": "c445c7c8-b711-4e73-9c47-ee10c544329c",
   "metadata": {},
   "source": [
    "Now considering the installation is complete, in order to understand cvxpy, we need to first understand convex optimization. To do this, let's cover how to solve it with the help of an example.\n",
    "\n",
    "### Hypothetical Convex Optimization Example\n",
    "Let's start with a simple example to minimize a quadratic function, which is a common form of a convex function:\n",
    "\n",
    "$\n",
    "\\text{minimize } f(x) = 2x^2 + 5x + 1\n",
    "$\n",
    "\n",
    "This function is convex because its second derivative (4, in this case) is positive across its domain, ensuring any local minimum is also a global minimum."
   ]
  },
  {
   "cell_type": "markdown",
   "id": "de5918f8-a2ab-4c0b-8f87-2da63426d9eb",
   "metadata": {},
   "source": [
    "### Solving the Problem Manually\n",
    "\n",
    "To find the minimum of $f(x)$, we set its derivative equal to zero and solve for $x$:\n",
    "\n",
    "$\n",
    "\\frac{df(x)}{dx} = 4x + 5 = 0\n",
    "$\n",
    "\n",
    "Solving for $x$ gives us:\n",
    "\n",
    "$\n",
    "x = -\\frac{5}{4}\n",
    "$\n",
    "\n",
    "Substituting $x = -\\frac{5}{4}$ back into $f(x)$ gives us the minimum value of the function:\n",
    "\n",
    "$\n",
    "f\\left(-\\frac{5}{4}\\right) = 2\\left(-\\frac{5}{4}\\right)^2 + 5\\left(-\\frac{5}{4}\\right) + 1 = -\\frac{9}{8}\n",
    "$\n",
    "\n",
    "Therefore, the minimum value of $f(x)$ is $-\\frac{9}{8}$, achieved at $x = -\\frac{5}{4}$.\n",
    "\n",
    "### Insight\n",
    "\n",
    "This manual process highlights the essence of convex optimization: finding the global minimum through gradient-based methods. For more complex or multidimensional functions, manual solutions become impractical, which is where tools like CVXPY excel by automating and efficiently solving these problems.\n",
    "\n",
    "## Transitioning to CVXPY\n",
    "\n",
    "Having manually solved a basic convex optimization problem, let's see how CVXPY streamlines this process for more complex scenarios, including those involving networks. Following the manual solution, the CVXPY code snippet provided earlier illustrates how the library simplifies solving the same problem:\n",
    "\n",
    "```python\n",
    "import cvxpy as cp\n",
    "\n",
    "x = cp.Variable()\n",
    "objective = cp.Minimize(2*x**2 + 5*x + 1)\n",
    "problem = cp.Problem(objective)\n",
    "result = problem.solve()\n",
    "\n",
    "print(f\"Optimal value for x: {x.value}\")\n",
    "print(f\"Minimum value of the function: {result}\")\n"
   ]
  },
  {
   "cell_type": "code",
   "execution_count": 43,
   "id": "3615926e-5ff0-4cd9-96d8-8aac161e7aec",
   "metadata": {},
   "outputs": [
    {
     "name": "stdout",
     "output_type": "stream",
     "text": [
      "\u001b[33mWARNING: Skipping /opt/conda/lib/python3.11/site-packages/nlopt-2.7.1.dist-info due to invalid metadata entry 'name'\u001b[0m\u001b[33m\n",
      "\u001b[0mRequirement already satisfied: cvxpy in /opt/conda/lib/python3.11/site-packages (1.4.2)\n",
      "Requirement already satisfied: osqp>=0.6.2 in /opt/conda/lib/python3.11/site-packages (from cvxpy) (0.6.5)\n",
      "Requirement already satisfied: ecos>=2 in /opt/conda/lib/python3.11/site-packages (from cvxpy) (2.0.13)\n",
      "Requirement already satisfied: clarabel>=0.5.0 in /opt/conda/lib/python3.11/site-packages (from cvxpy) (0.7.1)\n",
      "Requirement already satisfied: scs>=3.0 in /opt/conda/lib/python3.11/site-packages (from cvxpy) (3.2.4.post1)\n",
      "Requirement already satisfied: numpy>=1.15 in /opt/conda/lib/python3.11/site-packages (from cvxpy) (1.26.2)\n",
      "Requirement already satisfied: scipy>=1.1.0 in /opt/conda/lib/python3.11/site-packages (from cvxpy) (1.11.4)\n",
      "Requirement already satisfied: pybind11 in /opt/conda/lib/python3.11/site-packages (from cvxpy) (2.12.0)\n",
      "Requirement already satisfied: qdldl in /opt/conda/lib/python3.11/site-packages (from osqp>=0.6.2->cvxpy) (0.1.7.post1)\n",
      "\u001b[33mWARNING: Skipping /opt/conda/lib/python3.11/site-packages/nlopt-2.7.1.dist-info due to invalid metadata entry 'name'\u001b[0m\u001b[33m\n",
      "\u001b[0m"
     ]
    }
   ],
   "source": [
    "#install\n",
    "!pip install -U cvxpy"
   ]
  },
  {
   "cell_type": "code",
   "execution_count": 44,
   "id": "22fc24cc-df5b-414f-966f-bebfd37d78bf",
   "metadata": {},
   "outputs": [
    {
     "name": "stdout",
     "output_type": "stream",
     "text": [
      "Optimal value for x: -1.2499999999999998\n",
      "Minimum value of the function: -2.125\n"
     ]
    }
   ],
   "source": [
    "#so actually solving it now\n",
    "import cvxpy as cp\n",
    "\n",
    "# Define the variable\n",
    "x = cp.Variable()\n",
    "\n",
    "# Define the objective function\n",
    "objective = cp.Minimize(2*x**2 + 5*x + 1)\n",
    "\n",
    "# Define the problem\n",
    "problem = cp.Problem(objective)\n",
    "\n",
    "# Solve the problem\n",
    "result = problem.solve()\n",
    "\n",
    "print(\"Optimal value for x:\", x.value)\n",
    "print(\"Minimum value of the function:\", result)\n"
   ]
  },
  {
   "cell_type": "markdown",
   "id": "7b78401a-66c0-42ae-bb20-829e3b3a8c3b",
   "metadata": {},
   "source": [
    "### Analyzing a Network with Hypothetical Data\n",
    "Suppose we have a simple network represented by nodes and edges, where nodes represent points of interest, and edges represent paths between them with associated costs. Our objective is to minimize the total cost of traveling across the network.\n",
    "\n",
    "### Creating a Hypothetical Dataset\n",
    "For our hypothetical dataset, we'll manually create data representing a network of four nodes and the costs associated with traveling between them.\n",
    "\n",
    "### Visualizing the Network with NetworkX\n",
    "Before we dive into optimization with CVXPY, let's visualize our network using NetworkX."
   ]
  },
  {
   "cell_type": "code",
   "execution_count": 45,
   "id": "35103bc5-1ca3-4f66-91cd-e6ce298d488b",
   "metadata": {},
   "outputs": [
    {
     "data": {
      "image/png": "[encoded data removed]",
      "text/plain": [
       "<Figure size 640x480 with 1 Axes>"
      ]
     },
     "metadata": {},
     "output_type": "display_data"
    }
   ],
   "source": [
    "import networkx as nx\n",
    "import matplotlib.pyplot as plt\n",
    "\n",
    "# Create a graph object\n",
    "G = nx.Graph()\n",
    "\n",
    "# Add edges between nodes with weights (costs)\n",
    "G.add_edge('A', 'B', weight=10)\n",
    "G.add_edge('B', 'C', weight=15)\n",
    "G.add_edge('C', 'D', weight=10)\n",
    "G.add_edge('A', 'D', weight=20)\n",
    "\n",
    "# Draw the network\n",
    "pos = nx.spring_layout(G)\n",
    "nx.draw(G, pos, with_labels=True, node_size=700)\n",
    "labels = nx.get_edge_attributes(G, 'weight')\n",
    "nx.draw_networkx_edge_labels(G, pos, edge_labels=labels)\n",
    "plt.show()\n"
   ]
  },
  {
   "cell_type": "markdown",
   "id": "7183e940-4c5c-4ca2-866b-909fdd1ded0e",
   "metadata": {},
   "source": [
    "### Applying CVXPY to a Real-World Dataset\n",
    "Now, let's apply our understanding to a real-world dataset stored in data.csv, which contains information about a network's nodes and edges, including the costs associated with each edge.\n",
    "\n",
    "### Loading and Preparing Data\n",
    "First, we'll load our dataset using Pandas and prepare it for analysis."
   ]
  },
  {
   "cell_type": "code",
   "execution_count": 46,
   "id": "48968590-2c28-4585-88df-214b689c8ac8",
   "metadata": {},
   "outputs": [
    {
     "name": "stdout",
     "output_type": "stream",
     "text": [
      "  from   to  weight       type\n",
      "0  s01  s02      10  hyperlink\n",
      "1  s01  s02      12  hyperlink\n",
      "2  s01  s03      22  hyperlink\n",
      "3  s01  s04      21  hyperlink\n",
      "4  s04  s11      22    mention\n"
     ]
    }
   ],
   "source": [
    "import pandas as pd\n",
    "\n",
    "# Load the dataset\n",
    "df = pd.read_csv('edges.csv')\n",
    "\n",
    "# Assume df has columns 'source', 'target', and 'cost'\n",
    "print(df.head())\n"
   ]
  },
  {
   "cell_type": "markdown",
   "id": "c210ba80-58eb-46d7-a6ce-813558724ed8",
   "metadata": {},
   "source": [
    "### Solving an Optimization Problem with CVXPY\n",
    "Given our real-world dataset, we aim to minimize the total cost of traveling across the network while possibly including constraints such as maximum cost limits or specific paths that must be taken.\n",
    "\n",
    "### Implementation with CVXPY\n",
    "We would follow a similar approach to the hypothetical example to define our variables, objective function, and constraints based on the real-world data. However, due to the complexity and variability of real-world data, the exact formulation will depend on the specific characteristics and requirements of your network.\n",
    "\n",
    "This tutorial outlined the foundational steps for engaging with network optimization problems, from theoretical understanding to practical application. We'll now complete the implementation phase with our real-world dataset, focusing on minimizing the total cost of the network.\n",
    "\n",
    "### Formulating the Optimization Problem\n",
    "\n",
    "With our dataset loaded into a Pandas DataFrame, we can proceed to formulate our optimization problem. Suppose we aim to find the least expensive path that connects all nodes in our network, akin to solving a Minimum Spanning Tree (MST) problem but within the convex optimization framework for demonstration purposes.\n",
    "\n",
    "### Implementation with CVXPY\n",
    "\n",
    "```python\n",
    "# For this example, let's assume 'df' has columns: 'source', 'target', 'cost'\n",
    "import cvxpy as cp\n",
    "import numpy as np\n",
    "\n",
    "# Unique nodes\n",
    "nodes = pd.concat([df['source'], df['target']]).unique()\n",
    "\n",
    "# Create a mapping for nodes to integers\n",
    "node_to_int = {node: i for i, node in enumerate(nodes)}\n",
    "int_to_node = {i: node for node, i in node_to_int.items()}\n",
    "\n",
    "# Number of nodes\n",
    "n_nodes = len(nodes)\n",
    "\n",
    "# Initialize the cost matrix\n",
    "cost_matrix = np.full((n_nodes, n_nodes), fill_value=np.inf)\n",
    "np.fill_diagonal(cost_matrix, 0)\n",
    "\n",
    "# Populate the cost matrix\n",
    "for _, row in df.iterrows():\n",
    "    i, j = node_to_int[row['source']], node_to_int[row['target']]\n",
    "    cost_matrix[i, j] = row['cost']\n",
    "    cost_matrix[j, i] = row['cost']  # Assuming undirected graph\n",
    "\n",
    "# Optimization variable: a matrix of decision variables indicating if edge (i, j) is included in the MST\n",
    "x = cp.Variable(cost_matrix.shape, boolean=True)\n",
    "\n",
    "# Objective function: minimize the total cost of the selected edges\n",
    "objective = cp.Minimize(cp.sum(cp.multiply(cost_matrix, x)))\n",
    "\n",
    "# Constraints\n",
    "constraints = []\n",
    "\n",
    "# Constraint 1: Ensure that the total number of edges in the MST is (n_nodes - 1)\n",
    "constraints.append(cp.sum(x) == n_nodes - 1)\n",
    "\n",
    "# Additional constraints would be required to prevent subtours, ensuring a single connected component,\n",
    "# but for simplicity, these are omitted in this tutorial.\n",
    "\n",
    "# Solve the problem\n",
    "problem = cp.Problem(objective, constraints)\n",
    "problem.solve()\n",
    "\n",
    "print(\"Minimum total cost:\", problem.value)\n",
    "\n",
    "# Extracting the selected edges\n",
    "selected_edges = np.where(x.value > 0.5)\n",
    "\n",
    "for i, j in zip(*selected_edges):\n",
    "    print(f\"Edge from {int_to_node[i]} to {int_to_node[j]} selected\")\n"
   ]
  },
  {
   "cell_type": "code",
   "execution_count": 47,
   "id": "39dbb93f-473d-4cec-9f98-91c95ea5490b",
   "metadata": {},
   "outputs": [],
   "source": [
    "import pandas as pd\n",
    "import numpy as np\n",
    "import cvxpy as cp\n",
    "\n",
    "# Load the datasets\n",
    "nodes_df = pd.read_csv('nodes.csv')\n",
    "edges_df = pd.read_csv('edges.csv')\n",
    "\n",
    "#using a different dataset now\n",
    "# # Determine 25% of the unique heroes and comics\n",
    "# num_heroes_sample = int(len(edges_df['hero'].unique()) * 0.1)\n",
    "# num_comics_sample = int(len(edges_df['comic'].unique()) * 0.1)\n",
    "\n",
    "# # Sample a subset of heroes and comics\n",
    "# sampled_heroes = np.random.choice(edges_df['hero'].unique(), size=num_heroes_sample, replace=False)\n",
    "# sampled_comics = np.random.choice(edges_df['comic'].unique(), size=num_comics_sample, replace=False)\n",
    "\n",
    "# Filter edges for those only involving the sampled heroes and comics\n",
    "# filtered_edges = edges_df[edges_df['hero'].isin(sampled_heroes) & edges_df['comic'].isin(sampled_comics)]\n"
   ]
  },
  {
   "cell_type": "markdown",
   "id": "d1f7e6eb-d882-4f90-86dc-8797cc842156",
   "metadata": {},
   "source": [
    "Kernel keeps dying need to FIX"
   ]
  },
  {
   "cell_type": "code",
   "execution_count": 48,
   "id": "586514a5-3772-4671-a73f-084cc32d57fa",
   "metadata": {},
   "outputs": [],
   "source": [
    "import numpy as np\n",
    "\n",
    "# Unique nodes\n",
    "node_ids = pd.concat([edges_df['from'], edges_df['to']]).unique()\n",
    "node_to_int = {node_id: index for index, node_id in enumerate(node_ids)}\n",
    "\n",
    "# Initialize cost matrix\n",
    "n_nodes = len(node_ids)\n",
    "cost_matrix = np.full((n_nodes, n_nodes), fill_value=np.inf)\n",
    "np.fill_diagonal(cost_matrix, 0)\n",
    "\n",
    "# Populate cost matrix\n",
    "for _, row in edges_df.iterrows():\n",
    "    i = node_to_int[row['from']]\n",
    "    j = node_to_int[row['to']]\n",
    "    cost_matrix[i, j] = row['weight']  # Assumes direct edges without need for minimum function for simplicity\n"
   ]
  },
  {
   "cell_type": "code",
   "execution_count": 49,
   "id": "450065ea-3636-453e-af52-5d3e6059f1e9",
   "metadata": {},
   "outputs": [],
   "source": [
    "import cvxpy as cp\n",
    "\n",
    "# Optimization variable: binary matrix for edge selection\n",
    "x = cp.Variable((n_nodes, n_nodes), boolean=True)\n",
    "\n",
    "# Objective: Minimize total cost\n",
    "objective = cp.Minimize(cp.sum(cp.multiply(cost_matrix, x)))\n",
    "\n",
    "# Constraints: Ensure each node is involved in at least one edge\n",
    "constraints = [cp.sum(x, axis=0) + cp.sum(x, axis=1) >= 1]\n"
   ]
  },
  {
   "cell_type": "code",
   "execution_count": 50,
   "id": "e6cf4e3a-b9ee-46c9-acbb-a09b019adc12",
   "metadata": {},
   "outputs": [
    {
     "name": "stdout",
     "output_type": "stream",
     "text": [
      "Minimum Total Cost: nan\n"
     ]
    },
    {
     "name": "stderr",
     "output_type": "stream",
     "text": [
      "/opt/conda/lib/python3.11/site-packages/cvxpy/atoms/affine/binary_operators.py:276: RuntimeWarning: invalid value encountered in multiply\n",
      "  return np.multiply(values[0], values[1])\n"
     ]
    }
   ],
   "source": [
    "# Solve the problem\n",
    "problem = cp.Problem(objective, constraints)\n",
    "result = problem.solve(solver=cp.GLPK_MI)\n",
    "\n",
    "print(f\"Minimum Total Cost: {problem.value}\")\n"
   ]
  },
  {
   "cell_type": "code",
   "execution_count": 23,
   "id": "23e49532-1142-4c00-af90-124f14a2fcfa",
   "metadata": {},
   "outputs": [],
   "source": [
    "# Total number of nodes (heroes + comics)\n",
    "n_nodes = len(heroes) + len(comics)"
   ]
  },
  {
   "cell_type": "code",
   "execution_count": 24,
   "id": "8167f87d-5f05-4420-af01-62977ce16700",
   "metadata": {},
   "outputs": [
    {
     "data": {
      "text/plain": [
       "807"
      ]
     },
     "execution_count": 24,
     "metadata": {},
     "output_type": "execute_result"
    }
   ],
   "source": [
    "n_nodes"
   ]
  },
  {
   "cell_type": "code",
   "execution_count": 25,
   "id": "c2a973a1-de42-4664-bd74-2dc723017a4c",
   "metadata": {},
   "outputs": [],
   "source": [
    "# Initialize the cost matrix with infinite cost, then fill in the actual costs\n",
    "cost_matrix = np.full((n_nodes, n_nodes), fill_value=np.inf)\n",
    "np.fill_diagonal(cost_matrix, 0)\n"
   ]
  },
  {
   "cell_type": "code",
   "execution_count": 26,
   "id": "a67c488c-7edf-4a10-a67e-650ef5416a3c",
   "metadata": {},
   "outputs": [],
   "source": [
    "# for _, row in edges_df.iterrows():\n",
    "#     i = hero_to_int[row['hero']]\n",
    "#     j = comic_to_int[row['comic']]\n",
    "#     cost_matrix[i, j] = row['cost']\n",
    "#     cost_matrix[j, i] = row['cost']  # Assuming the graph is undirected for simplification\n",
    "\n",
    "\n",
    "##chatu\n",
    "# Assuming 'filtered_edges' contains the filtered subset of edges\n",
    "\n",
    "# Update the list of heroes and comics based on the filtered edges\n",
    "heroes = filtered_edges['hero'].unique()\n",
    "comics = filtered_edges['comic'].unique()\n",
    "\n",
    "# Update mappings to integers for CVXPY using the filtered lists\n",
    "hero_to_int = {hero: i for i, hero in enumerate(heroes)}\n",
    "comic_to_int = {comic: i + len(heroes) for i, comic in enumerate(comics)}\n",
    "\n",
    "# Update the total number of nodes (heroes + comics) based on the filtered lists\n",
    "n_nodes = len(heroes) + len(comics)\n",
    "\n",
    "# Initialize the cost matrix with infinite cost for the updated number of nodes\n",
    "cost_matrix = np.full((n_nodes, n_nodes), fill_value=np.inf)\n",
    "np.fill_diagonal(cost_matrix, 0)\n",
    "\n",
    "# Fill in the actual costs based on the filtered edges\n",
    "for _, row in filtered_edges.iterrows():\n",
    "    i = hero_to_int[row['hero']]\n",
    "    j = comic_to_int[row['comic']]\n",
    "    cost_matrix[i, j] = row['cost']\n"
   ]
  },
  {
   "cell_type": "code",
   "execution_count": 27,
   "id": "349dfd40-fe59-4681-9004-a344ca8c2de8",
   "metadata": {},
   "outputs": [],
   "source": [
    "#now its dying here"
   ]
  },
  {
   "cell_type": "code",
   "execution_count": 28,
   "id": "afda886d-0212-4e3d-8a62-ba248bf6fa1d",
   "metadata": {},
   "outputs": [],
   "source": [
    "# Define the optimization variables and problem\n",
    "x = cp.Variable(cost_matrix.shape, boolean=True)\n",
    "\n",
    "# Objective: minimize the total \"cost\"\n",
    "objective = cp.Minimize(cp.sum(cp.multiply(cost_matrix, x)))\n",
    "\n",
    "# Constraint: each hero is connected to at least one comic (simplified constraint for demonstration)\n",
    "constraints = [cp.sum(x, axis=1) >= 1]\n",
    "\n"
   ]
  },
  {
   "cell_type": "markdown",
   "id": "52641417-6cd0-4473-9d00-4bdb771c44f5",
   "metadata": {},
   "source": [
    "now dies at one cell below"
   ]
  },
  {
   "cell_type": "code",
   "execution_count": 42,
   "id": "311cae7f-d711-4b70-9fd0-048de6cbb4ae",
   "metadata": {},
   "outputs": [
    {
     "name": "stdout",
     "output_type": "stream",
     "text": [
      "Minimum total 'cost': nan\n"
     ]
    }
   ],
   "source": [
    "# Solve the optimization problem\n",
    "problem = cp.Problem(objective, constraints)\n",
    "# problem.solve()\n",
    "# Example using CBC (if installed)\n",
    "# problem.solve(solver=cp.CBC)\n",
    "\n",
    "# Example using GLPK_MI\n",
    "problem.solve(solver=cp.GLPK_MI)\n",
    "\n",
    "# Note: Ensure the chosen solver is installed and available in your environment.\n",
    "\n",
    "\n",
    "\n",
    "print(\"Minimum total 'cost':\", problem.value)\n",
    " "
   ]
  },
  {
   "cell_type": "code",
   "execution_count": 30,
   "id": "a3996810-a5e7-44f6-b5f6-a5a832bf10da",
   "metadata": {},
   "outputs": [],
   "source": [
    "\n",
    "# Extracting selected edges (hero-comic pairs)\n",
    "selected_edges = np.where(x.value > 0.5)\n",
    "selected_heroes = [i for i in selected_edges[0] if i < len(heroes)]\n",
    "selected_comics = [i - len(heroes) for i in selected_edges[1] if i >= len(heroes)]\n",
    "\n"
   ]
  },
  {
   "cell_type": "code",
   "execution_count": 31,
   "id": "635b7da0-fb8d-4341-9beb-63dc44f339db",
   "metadata": {},
   "outputs": [],
   "source": [
    "# Map back to hero and comic names\n",
    "selected_hero_comic_pairs = [(heroes[i], comics[j]) for i, j in zip(selected_heroes, selected_comics)]\n",
    "\n"
   ]
  },
  {
   "cell_type": "code",
   "execution_count": 32,
   "id": "f9702c2a-eda8-4cf4-8a6b-9a7aaf2c91fc",
   "metadata": {},
   "outputs": [],
   "source": [
    "# Display the first few selected pairs for inspection\n",
    "for pair in selected_hero_comic_pairs[:5]:\n",
    "    print(f\"Hero: {pair[0]}, Comic: {pair[1]}\")\n"
   ]
  },
  {
   "cell_type": "markdown",
   "id": "481979f7-e096-4e82-b7e9-8c9da2d317ef",
   "metadata": {},
   "source": [
    "### Analyzing the Results\n",
    "Upon solving the optimization problem, we examine the total minimum cost and the selected edges that constitute the optimal solution. This approach allows us to understand the network's structure better and identify cost-efficient ways to navigate through it.\n",
    "\n",
    "### Visualization of the Optimized Network\n",
    "Finally, to visualize our optimized network with the selected paths, we can modify our NetworkX graph drawing:"
   ]
  },
  {
   "cell_type": "code",
   "execution_count": 33,
   "id": "741af1e5-4d36-4fc8-bb56-3c4aec3bbcba",
   "metadata": {},
   "outputs": [],
   "source": [
    "import networkx as nx"
   ]
  },
  {
   "cell_type": "code",
   "execution_count": 37,
   "id": "659daa9c-1612-42ba-b258-cfec8d74e9ff",
   "metadata": {},
   "outputs": [],
   "source": [
    "# Create a reverse mapping from integer indices back to node names\n",
    "int_to_hero = {v: k for k, v in hero_to_int.items()}\n",
    "int_to_comic = {v: k for k, v in comic_to_int.items()}"
   ]
  },
  {
   "cell_type": "code",
   "execution_count": 38,
   "id": "9b7cfd49-3ecd-40a6-b304-0a72faf173dc",
   "metadata": {},
   "outputs": [],
   "source": [
    "# Merge the two dictionaries into int_to_node\n",
    "int_to_node = {**int_to_hero, **int_to_comic}"
   ]
  },
  {
   "cell_type": "code",
   "execution_count": 39,
   "id": "b439611c-7957-48ac-ac36-1423d7544635",
   "metadata": {},
   "outputs": [],
   "source": [
    "# Reconstruct the graph with selected edges only\n",
    "G_optimized = nx.Graph()\n",
    "for i, j in zip(*selected_edges):\n",
    "    G_optimized.add_edge(int_to_node[i], int_to_node[j], weight=cost_matrix[i, j])"
   ]
  },
  {
   "cell_type": "code",
   "execution_count": 40,
   "id": "097733fb-f0e8-46ae-b640-5022fb4f7fd1",
   "metadata": {},
   "outputs": [
    {
     "name": "stdout",
     "output_type": "stream",
     "text": [
      "Nodes: 807\n",
      "Edges: 807\n"
     ]
    }
   ],
   "source": [
    "print(\"Nodes:\", G_optimized.number_of_nodes())\n",
    "print(\"Edges:\", G_optimized.number_of_edges())"
   ]
  },
  {
   "cell_type": "code",
   "execution_count": 41,
   "id": "6fcb6e28-ff9d-49a5-95b7-7474592feb05",
   "metadata": {},
   "outputs": [],
   "source": [
    "if not pos:\n",
    "    print(\"Position calculation failed. Adjusting layout strategy or parameters.\")\n",
    "    # Optionally, try a different layout or manually set positions.\n"
   ]
  },
  {
   "cell_type": "code",
   "execution_count": null,
   "id": "08ccdd34-c67b-42dc-884b-601051e4b9de",
   "metadata": {},
   "outputs": [],
   "source": [
    "# Draw the optimized network\n",
    "pos = nx.spring_layout(G_optimized)\n",
    "nx.draw(G_optimized, pos, with_labels=True, node_color='lightgreen', edge_color='red', width=2)\n",
    "labels = nx.get_edge_attributes(G_optimized, 'weight')\n",
    "nx.draw_networkx_edge_labels(G_optimized, pos, edge_labels=labels)\n",
    "plt.title(\"Optimized Network\")\n",
    "plt.show()"
   ]
  },
  {
   "cell_type": "markdown",
   "id": "e341529b-70b8-4ecb-b629-7f26638aeab5",
   "metadata": {},
   "source": [
    "Conclusion\n",
    "In this tutorial, we have explored the process of network analysis using CVXPY, from theoretical basics of convex optimization to practical application on a network dataset. We have seen how CVXPY can be utilized to formulate and solve complex optimization problems, enabling efficient analysis and optimization of networks. This knowledge serves as a foundation for tackling a wide range of optimization problems in various domains.\n",
    "\n",
    "Remember, the example provided here is simplified and focuses on demonstrating the use of CVXPY with network data. Real-world scenarios might require more complex formulations and constraints to accurately model and solve the problem at hand."
   ]
  },
  {
   "cell_type": "code",
   "execution_count": null,
   "id": "8275e2a7-93ae-4c7f-9457-73b603da032b",
   "metadata": {},
   "outputs": [],
   "source": []
  }
 ],
 "metadata": {
  "kernelspec": {
   "display_name": "Python 3 (ipykernel)",
   "language": "python",
   "name": "python3"
  },
  "language_info": {
   "codemirror_mode": {
    "name": "ipython",
    "version": 3
   },
   "file_extension": ".py",
   "mimetype": "text/x-python",
   "name": "python",
   "nbconvert_exporter": "python",
   "pygments_lexer": "ipython3",
   "version": "3.11.6"
  }
 },
 "nbformat": 4,
 "nbformat_minor": 5
}
